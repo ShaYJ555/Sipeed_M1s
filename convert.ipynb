{
 "cells": [
  {
   "cell_type": "code",
   "execution_count": 6,
   "metadata": {},
   "outputs": [],
   "source": [
    "from net.net import model\n",
    "from utils.dataset import FaceKeyPointsDatasets\n",
    "import tensorflow as tf\n",
    "import numpy as np"
   ]
  },
  {
   "cell_type": "code",
   "execution_count": 7,
   "metadata": {},
   "outputs": [],
   "source": [
    "net = model\n",
    "net.load_weights(\"weights/face_240_240_50.h5\")"
   ]
  },
  {
   "cell_type": "code",
   "execution_count": 8,
   "metadata": {},
   "outputs": [],
   "source": [
    "def representative_data_gen():\n",
    "  for i in range(31):\n",
    "    data = FaceKeyPointsDatasets(32,'train')[0][0][31]\n",
    "    img = np.expand_dims(data,0)\n",
    "    img = np.array(img,dtype=np.float32)  \n",
    "    yield [img]"
   ]
  },
  {
   "cell_type": "code",
   "execution_count": 9,
   "metadata": {},
   "outputs": [
    {
     "name": "stderr",
     "output_type": "stream",
     "text": [
      "WARNING:absl:Found untraced functions such as _jit_compiled_convolution_op, _jit_compiled_convolution_op, _jit_compiled_convolution_op, _jit_compiled_convolution_op, _jit_compiled_convolution_op while saving (showing 5 of 52). These functions will not be directly callable after loading.\n"
     ]
    },
    {
     "name": "stdout",
     "output_type": "stream",
     "text": [
      "INFO:tensorflow:Assets written to: C:\\Users\\27260\\AppData\\Local\\Temp\\tmp4gy85zrf\\assets\n"
     ]
    },
    {
     "name": "stderr",
     "output_type": "stream",
     "text": [
      "INFO:tensorflow:Assets written to: C:\\Users\\27260\\AppData\\Local\\Temp\\tmp4gy85zrf\\assets\n",
      "d:\\Configurations\\Miniconda\\envs\\Tensor\\lib\\site-packages\\tensorflow\\lite\\python\\convert.py:766: UserWarning: Statistics for quantized inputs were expected, but not specified; continuing anyway.\n",
      "  warnings.warn(\"Statistics for quantized inputs were expected, but not \"\n"
     ]
    },
    {
     "name": "stdout",
     "output_type": "stream",
     "text": [
      "Quantized model size = 3.5501632690429688MBs\n"
     ]
    }
   ],
   "source": [
    "# 量化模型\n",
    "converter = tf.lite.TFLiteConverter.from_keras_model(model=net)\n",
    "converter._experimental_disable_per_channel = True\n",
    "converter.optimizations = [tf.lite.Optimize.DEFAULT]\n",
    "converter.representative_dataset = representative_data_gen\n",
    "converter.target_spec.supported_ops = [tf.lite.OpsSet.TFLITE_BUILTINS_INT8]\n",
    "converter.inference_input_type = tf.uint8\n",
    "converter.inference_output_type = tf.uint8\n",
    "\n",
    "tflite_quantized_model = converter.convert()\n",
    "# 查看模型大小\n",
    "quantized_model_size = len(tflite_quantized_model) / (1024*1024)\n",
    "print(f'Quantized model size = {quantized_model_size}MBs')"
   ]
  },
  {
   "cell_type": "code",
   "execution_count": 10,
   "metadata": {},
   "outputs": [],
   "source": [
    "f = open('face_240_240_uint8_50.tflite', \"wb\")\n",
    "f.write(tflite_quantized_model)\n",
    "f.close()"
   ]
  }
 ],
 "metadata": {
  "kernelspec": {
   "display_name": "TensorFlow",
   "language": "python",
   "name": "python3"
  },
  "language_info": {
   "codemirror_mode": {
    "name": "ipython",
    "version": 3
   },
   "file_extension": ".py",
   "mimetype": "text/x-python",
   "name": "python",
   "nbconvert_exporter": "python",
   "pygments_lexer": "ipython3",
   "version": "3.9.16"
  },
  "orig_nbformat": 4,
  "vscode": {
   "interpreter": {
    "hash": "f1e4f300bb02204759790320da05e4630e5a4e33912a71b2e11ab662e70b4802"
   }
  }
 },
 "nbformat": 4,
 "nbformat_minor": 2
}
